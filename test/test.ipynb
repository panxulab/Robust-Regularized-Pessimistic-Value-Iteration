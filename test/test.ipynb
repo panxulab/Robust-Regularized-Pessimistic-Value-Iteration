{
 "cells": [
  {
   "cell_type": "code",
   "execution_count": 5,
   "metadata": {},
   "outputs": [
    {
     "ename": "ModuleNotFoundError",
     "evalue": "No module named 'torch'",
     "output_type": "error",
     "traceback": [
      "\u001b[0;31m---------------------------------------------------------------------------\u001b[0m",
      "\u001b[0;31mModuleNotFoundError\u001b[0m                       Traceback (most recent call last)",
      "Cell \u001b[0;32mIn[5], line 1\u001b[0m\n\u001b[0;32m----> 1\u001b[0m \u001b[38;5;28;01mimport\u001b[39;00m \u001b[38;5;21;01mtorch\u001b[39;00m\n\u001b[1;32m      2\u001b[0m \u001b[38;5;28;01mimport\u001b[39;00m \u001b[38;5;21;01mtorch\u001b[39;00m\u001b[38;5;21;01m.\u001b[39;00m\u001b[38;5;21;01moptim\u001b[39;00m \u001b[38;5;28;01mas\u001b[39;00m \u001b[38;5;21;01moptim\u001b[39;00m\n\u001b[1;32m      3\u001b[0m \u001b[38;5;28;01mimport\u001b[39;00m \u001b[38;5;21;01mtorch\u001b[39;00m\u001b[38;5;21;01m.\u001b[39;00m\u001b[38;5;21;01mnn\u001b[39;00m \u001b[38;5;28;01mas\u001b[39;00m \u001b[38;5;21;01mnn\u001b[39;00m\n",
      "\u001b[0;31mModuleNotFoundError\u001b[0m: No module named 'torch'"
     ]
    }
   ],
   "source": [
    "import torch\n",
    "import torch.optim as optim\n",
    "import torch.nn as nn\n",
    "import torch.nn.functional as F\n",
    "from torch.distributions import Categorical\n",
    "import numpy as np\n",
    "from multiprocessing import Process, Pipe\n",
    "import argparse\n",
    "import gym"
   ]
  },
  {
   "cell_type": "code",
   "execution_count": null,
   "metadata": {},
   "outputs": [],
   "source": []
  },
  {
   "cell_type": "code",
   "execution_count": 1,
   "metadata": {},
   "outputs": [
    {
     "name": "stdout",
     "output_type": "stream",
     "text": [
      "dict_keys(['CartPole-v0', 'CartPole-v1', 'MountainCar-v0', 'MountainCarContinuous-v0', 'Pendulum-v1', 'Acrobot-v1', 'LunarLander-v2', 'LunarLanderContinuous-v2', 'BipedalWalker-v3', 'BipedalWalkerHardcore-v3', 'CarRacing-v2', 'Blackjack-v1', 'FrozenLake-v1', 'FrozenLake8x8-v1', 'CliffWalking-v0', 'Taxi-v3', 'Reacher-v2', 'Reacher-v4', 'Pusher-v2', 'Pusher-v4', 'InvertedPendulum-v2', 'InvertedPendulum-v4', 'InvertedDoublePendulum-v2', 'InvertedDoublePendulum-v4', 'HalfCheetah-v2', 'HalfCheetah-v3', 'HalfCheetah-v4', 'Hopper-v2', 'Hopper-v3', 'Hopper-v4', 'Swimmer-v2', 'Swimmer-v3', 'Swimmer-v4', 'Walker2d-v2', 'Walker2d-v3', 'Walker2d-v4', 'Ant-v2', 'Ant-v3', 'Ant-v4', 'Humanoid-v2', 'Humanoid-v3', 'Humanoid-v4', 'HumanoidStandup-v2', 'HumanoidStandup-v4'])\n"
     ]
    }
   ],
   "source": [
    "import gym\n",
    "\n",
    "envs = gym.envs.registry.keys()\n",
    "print(envs)"
   ]
  },
  {
   "cell_type": "code",
   "execution_count": 3,
   "metadata": {},
   "outputs": [],
   "source": [
    "class ActorCritic(nn.Module):\n",
    "    ''' A2C网络模型，包含一个Actor和Critic\n",
    "    '''\n",
    "    def __init__(self, input_dim, output_dim, hidden_dim):\n",
    "        super(ActorCritic, self).__init__()\n",
    "        self.critic = nn.Sequential(\n",
    "            nn.Linear(input_dim, hidden_dim),\n",
    "            nn.ReLU(),\n",
    "            nn.Linear(hidden_dim, 1)\n",
    "        )\n",
    "        \n",
    "        self.actor = nn.Sequential(\n",
    "            nn.Linear(input_dim, hidden_dim),\n",
    "            nn.ReLU(),\n",
    "            nn.Linear(hidden_dim, output_dim),\n",
    "            nn.Softmax(dim=1),\n",
    "        )\n",
    "        \n",
    "    def forward(self, x):\n",
    "        value = self.critic(x)\n",
    "        probs = self.actor(x)\n",
    "        dist  = Categorical(probs)\n",
    "        return dist, value"
   ]
  },
  {
   "cell_type": "code",
   "execution_count": 4,
   "metadata": {},
   "outputs": [],
   "source": [
    "class A2C:\n",
    "    def __init__(self,n_states,n_actions,cfg) -> None:\n",
    "        self.gamma = cfg.gamma\n",
    "        self.device = cfg.device\n",
    "        self.model = ActorCritic(n_states, n_actions, cfg.hidden_size).to(self.device)\n",
    "        self.optimizer = optim.Adam(self.model.parameters())\n",
    "\n",
    "    def compute_returns(self,next_value, rewards, masks):\n",
    "        R = next_value\n",
    "        returns = []\n",
    "        for step in reversed(range(len(rewards))):\n",
    "            R = rewards[step] + self.gamma * R * masks[step]\n",
    "            returns.insert(0, R)\n",
    "        return returns"
   ]
  },
  {
   "cell_type": "code",
   "execution_count": 5,
   "metadata": {},
   "outputs": [],
   "source": [
    "import math\n",
    "\n",
    "class Sinusoidalposemb(nn.model):\n",
    "    def __init__(self, tdim):\n",
    "        super(Sinusoidalposemb, self).__init__()\n",
    "        self.dim = tdim\n",
    "\n",
    "    def forward(self, x):\n",
    "        device = x.device\n",
    "        half_dim = self.dim // 2\n",
    "        emb = math.log(10000) / (half_dim - 1)\n",
    "        emb = torch.exp(torch.arange(half_dim, device = device) * - emb)\n",
    "        emb = x[:, None] * emb[None, :]\n",
    "        emb = torch.cat((emb.sin(), emb.cos()), dim = -1)\n",
    "        return emb\n",
    "\n",
    "\n",
    "class MLP(nn.model):\n",
    "    def __init__(self, state_dim, action_dim, hidden_dim, device, t_dim):\n",
    "        super(MLP, self).__init__()\n",
    "\n",
    "        self.t_dim = t_dim\n",
    "        self.action_dim = action_dim\n",
    "        self.divice = device\n",
    "        \n",
    "        self.time_mlp = nn.Sequential(\n",
    "            Sinusoidalposemb(t_dim),\n",
    "            nn.Linear(t_dim, t_dim*2),\n",
    "            nn.Mish(),\n",
    "            nn.Linear(t_dim*2, t_dim)\n",
    "        )\n",
    "        \n",
    "        input_dim = state_dim + action_dim + t_dim\n",
    "        pass\n",
    "    \n",
    "class Diffusion(nn.Module):\n",
    "    def __init__(self, loss_type, beta_schedule = \"linear\", clip_denoise = True, **kwargs)\n",
    "        super(Diffusion, self).__init__()\n",
    "        \n",
    "        self.state_dim = kwargs['state_dim']\n",
    "        self.action_dim = kwargs['action_dim']\n",
    "        self.hidden_dim = kwargs['hidden_dim']\n",
    "        self.T = kwargs['T']\n",
    "        \n",
    "        if beta_schedule == \"linear\":\n",
    "            beta = torch.linspace(0.0001, 0.02, self.T)\n",
    "        alpha = 1 - beta\n",
    "        alphas_cumprod = torch.cumprod(alpha, axis = 0)\n",
    "        alphas_cumprod_pre = torch.cat([torch.ones(1), alphas_cumprod[:-1]])\n",
    "        \n",
    "        self.register_buffer(\"beta\", beta)\n",
    "        self.register_buffer(\"alpha\", alpha)\n",
    "        self.alphas_cumprod(\"alphas_cumprod\", alphas_cumprod)\n",
    "        self.alphas_cumprod_pre(\"alphas_cumprod_pre\", alphas_cumprod_pre)\n",
    "        \n",
    "        "
   ]
  },
  {
   "cell_type": "code",
   "execution_count": 4,
   "metadata": {},
   "outputs": [
    {
     "name": "stdout",
     "output_type": "stream",
     "text": [
      "tensor([ 1,  2,  6, 24])\n",
      "tensor([1., 1., 2., 6.])\n"
     ]
    }
   ],
   "source": [
    "import torch\n",
    "alpha = torch.tensor([1,2,3,4])\n",
    "alphas_cumprod = torch.cumprod(alpha, axis = 0)\n",
    "alphas_cumprod_pre = torch.cat([torch.ones(1), alphas_cumprod[:-1]])\n",
    "print(alphas_cumprod)\n",
    "print(alphas_cumprod_pre)"
   ]
  },
  {
   "cell_type": "code",
   "execution_count": 9,
   "metadata": {},
   "outputs": [
    {
     "name": "stdout",
     "output_type": "stream",
     "text": [
      "tensor([1, 2, 3, 4])\n"
     ]
    }
   ],
   "source": [
    "print(alpha[0:4])"
   ]
  },
  {
   "cell_type": "code",
   "execution_count": 1,
   "metadata": {},
   "outputs": [
    {
     "data": {
      "image/png": "[encoded data removed]",
      "text/plain": [
       "<Figure size 640x480 with 1 Axes>"
      ]
     },
     "metadata": {},
     "output_type": "display_data"
    }
   ],
   "source": [
    "import numpy as np\n",
    "import matplotlib.pyplot as plt\n",
    "\n",
    "# 假设你有一些数据\n",
    "data = [10, 12, 23, 23, 16, 23, 21, 16]\n",
    "\n",
    "# 计算均值和标准差\n",
    "mean = np.mean(data)\n",
    "std_dev = np.std(data)\n",
    "\n",
    "# 创建x轴数据\n",
    "x = np.arange(len(data))\n",
    "\n",
    "# 绘制数据点\n",
    "plt.plot(x, data, 'o-', label='Data')\n",
    "\n",
    "# 绘制误差棒\n",
    "plt.errorbar(x, data, yerr=std_dev, fmt='o', label='Standard Deviation', color='red')\n",
    "\n",
    "# 添加标题和标签\n",
    "plt.title('Data with Standard Deviation')\n",
    "plt.xlabel('Index')\n",
    "plt.ylabel('Value')\n",
    "\n",
    "# 显示图例\n",
    "plt.legend()\n",
    "\n",
    "# 显示图表\n",
    "plt.show()"
   ]
  }
 ],
 "metadata": {
  "kernelspec": {
   "display_name": "new_env",
   "language": "python",
   "name": "python3"
  },
  "language_info": {
   "codemirror_mode": {
    "name": "ipython",
    "version": 3
   },
   "file_extension": ".py",
   "mimetype": "text/x-python",
   "name": "python",
   "nbconvert_exporter": "python",
   "pygments_lexer": "ipython3",
   "version": "3.11.5"
  }
 },
 "nbformat": 4,
 "nbformat_minor": 2
}
